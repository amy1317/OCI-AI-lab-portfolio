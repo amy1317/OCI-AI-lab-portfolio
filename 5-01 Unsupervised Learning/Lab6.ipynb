{
 "cells": [
  {
   "cell_type": "code",
   "execution_count": 1,
   "id": "afb1c968-0f27-4331-9f2b-f560de5ba80e",
   "metadata": {},
   "outputs": [],
   "source": [
    "import numpy as np \n",
    "import matplotlib.pyplot as plt \n",
    "from sklearn.cluster import KMeans \n",
    "from sklearn import datasets \n",
    "from ipywidgets import interact, IntSlider \n",
    "from IPython.display import display, clear_output "
   ]
  },
  {
   "cell_type": "code",
   "execution_count": 3,
   "id": "88043d3e-3e6b-432c-b0ad-5c25cf8a4661",
   "metadata": {},
   "outputs": [],
   "source": [
    "# Load the Iris dataset \n",
    "iris = datasets.load_iris() \n",
    "X = iris.data[:, :2]  \n",
    "# We'll use only the first two features for simplicity "
   ]
  },
  {
   "cell_type": "code",
   "execution_count": 5,
   "id": "1eb2a7d7-ddd7-4d3c-b816-2ee5cce75682",
   "metadata": {},
   "outputs": [],
   "source": [
    "# Create a function for interactive clustering visualization \n",
    "def plot_kmeans_clusters(num_clusters=2): \n",
    "    kmeans = KMeans(n_clusters=num_clusters, random_state=0) \n",
    "    labels = kmeans.fit_predict(X) \n",
    " \n",
    "    # Create a scatter plot with different colors for each cluster \n",
    "    plt.figure(figsize=(10, 6)) \n",
    "    for i in range(num_clusters): \n",
    "        plt.scatter(X[labels == i, 0], X[labels == i, 1], \n",
    "label=f'Cluster {i + 1}') \n",
    "    plt.scatter(kmeans.cluster_centers_[:, 0], \n",
    "kmeans.cluster_centers_[:, 1], \n",
    "                s=200, c='black', marker='X', label='Centroids') \n",
    " \n",
    "    plt.xlabel('Feature 1') \n",
    "    plt.ylabel('Feature 2') \n",
    "    plt.title(f'K-Means Clustering (Number of Clusters: {num_clusters})') \n",
    "    plt.legend() \n",
    "    plt.grid(True) \n",
    "    plt.show() "
   ]
  },
  {
   "cell_type": "code",
   "execution_count": 6,
   "id": "0c77901d-e529-4bc4-95ca-fb05852bb982",
   "metadata": {},
   "outputs": [
    {
     "data": {
      "application/vnd.jupyter.widget-view+json": {
       "model_id": "db02a690ffa743488290c9b6545607c7",
       "version_major": 2,
       "version_minor": 0
      },
      "text/plain": [
       "interactive(children=(IntSlider(value=2, description='Number of Clusters', max=5, min=2), Output()), _dom_clas…"
      ]
     },
     "metadata": {},
     "output_type": "display_data"
    },
    {
     "data": {
      "text/plain": [
       "<function __main__.plot_kmeans_clusters(num_clusters=2)>"
      ]
     },
     "execution_count": 6,
     "metadata": {},
     "output_type": "execute_result"
    }
   ],
   "source": [
    "# Create a slider for adjusting the number of clusters \n",
    "num_clusters_slider = IntSlider(value=2, min=2, max=5, \n",
    "description='Number of Clusters') \n",
    "# Create an interactive widget \n",
    "interact(plot_kmeans_clusters, num_clusters=num_clusters_slider) "
   ]
  },
  {
   "cell_type": "code",
   "execution_count": null,
   "id": "902c1ef0-d78c-4d2a-b71b-0f012a70936b",
   "metadata": {},
   "outputs": [],
   "source": []
  }
 ],
 "metadata": {
  "kernelspec": {
   "display_name": "Python 3 (ipykernel)",
   "language": "python",
   "name": "python3"
  },
  "language_info": {
   "codemirror_mode": {
    "name": "ipython",
    "version": 3
   },
   "file_extension": ".py",
   "mimetype": "text/x-python",
   "name": "python",
   "nbconvert_exporter": "python",
   "pygments_lexer": "ipython3",
   "version": "3.11.9"
  }
 },
 "nbformat": 4,
 "nbformat_minor": 5
}
