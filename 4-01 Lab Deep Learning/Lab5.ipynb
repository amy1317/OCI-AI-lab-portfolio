{
 "cells": [
  {
   "cell_type": "code",
   "execution_count": 1,
   "id": "73a13e42-64b6-46b0-993c-d9c2949382e7",
   "metadata": {},
   "outputs": [],
   "source": [
    "import numpy as np \n",
    "import matplotlib.pyplot as plt \n",
    "from sklearn.datasets import make_circles \n",
    "from sklearn.neural_network import MLPClassifier \n",
    "import ipywidgets as widgets \n",
    "from IPython.display import display \n",
    "from ipywidgets import interactive "
   ]
  },
  {
   "cell_type": "code",
   "execution_count": 4,
   "id": "ca32dea1-6d41-4338-af1f-493cf935bf0e",
   "metadata": {
    "editable": true,
    "slideshow": {
     "slide_type": ""
    },
    "tags": []
   },
   "outputs": [],
   "source": [
    "def update_plot(hidden_layer_size): \n",
    "    # Generate synthetic data (circle) \n",
    "    X, y = make_circles(n_samples=300, noise=0.1, factor=0.5, \n",
    "random_state=0) \n",
    " \n",
    "    # Create a multi-layer perceptron (MLP) classifier \n",
    "    clf = MLPClassifier(hidden_layer_sizes=(hidden_layer_size,), \n",
    "activation='relu', max_iter=3000, random_state=1) \n",
    " \n",
    "    # Fit the classifier to the data \n",
    "    clf.fit(X, y) \n",
    " \n",
    "    # Create a grid of points for visualization \n",
    "    x_vals = np.linspace(X[:, 0].min() - 0.1, X[:, 0].max() + 0.1, \n",
    "100) \n",
    "    y_vals = np.linspace(X[:, 1].min() - 0.1, X[:, 1].max() + 0.1, \n",
    "100) \n",
    "    X_plane, Y_plane = np.meshgrid(x_vals, y_vals) \n",
    "    grid_points = np.column_stack((X_plane.ravel(), Y_plane.ravel())) \n",
    " \n",
    "    # Predict class labels for the grid points \n",
    "    Z = clf.predict(grid_points) \n",
    "    Z = Z.reshape(X_plane.shape) \n",
    "    # Clear previous plot \n",
    "    plt.clf() \n",
    " \n",
    "    # Plot the decision boundary \n",
    "     \n",
    "    plt.contourf(X_plane, Y_plane, Z, levels=[-0.5, 0.5, 1.5], \n",
    "cmap=plt.cm.RdYlGn, alpha=0.6) \n",
    "    plt.scatter(X[:, 0], X[:, 1], c=y, cmap=plt.cm.RdYlGn) \n",
    "    plt.xlabel('Feature 1') \n",
    "    plt.ylabel('Feature 2') \n",
    "    plt.title(f'Decision Boundary Visualization for Circle Data (Hidden Layer Size={hidden_layer_size})') \n",
    "    plt.show() "
   ]
  },
  {
   "cell_type": "code",
   "execution_count": 5,
   "id": "e625728f-82e6-43ae-a2f1-9a3aac35f808",
   "metadata": {},
   "outputs": [
    {
     "data": {
      "application/vnd.jupyter.widget-view+json": {
       "model_id": "3156704663d54097b68e82afae28dfa1",
       "version_major": 2,
       "version_minor": 0
      },
      "text/plain": [
       "interactive(children=(IntSlider(value=2, description='Hidden Layer Size', max=10, min=1), Output()), _dom_clas…"
      ]
     },
     "metadata": {},
     "output_type": "display_data"
    }
   ],
   "source": [
    "# # Create a slider for hidden layer size \n",
    "hidden_layer_size_slider = widgets.IntSlider(value=2, min=1, max=10, \n",
    "step=1, description='Hidden Layer Size') \n",
    " \n",
    "# Create a submit button \n",
    "submit_button = widgets.Button(description='Submit') \n",
    "\n",
    "# Define a callback function for the submit button \n",
    "def submit_button_callback(button): \n",
    "    update_plot(hidden_layer_size_slider.value) \n",
    " \n",
    "#submit_button.on_click(submit_button_callback) \n",
    " \n",
    "# Create an interactive widget \n",
    "interactive_plot = interactive(update_plot, \n",
    "hidden_layer_size=hidden_layer_size_slider) \n",
    " \n",
    "# Display the widgets \n",
    "display(interactive_plot) "
   ]
  },
  {
   "cell_type": "code",
   "execution_count": null,
   "id": "ef076f6e-7eb0-419d-ae8b-cab697362c3a",
   "metadata": {},
   "outputs": [],
   "source": []
  }
 ],
 "metadata": {
  "kernelspec": {
   "display_name": "Python 3 (ipykernel)",
   "language": "python",
   "name": "python3"
  },
  "language_info": {
   "codemirror_mode": {
    "name": "ipython",
    "version": 3
   },
   "file_extension": ".py",
   "mimetype": "text/x-python",
   "name": "python",
   "nbconvert_exporter": "python",
   "pygments_lexer": "ipython3",
   "version": "3.11.9"
  }
 },
 "nbformat": 4,
 "nbformat_minor": 5
}
