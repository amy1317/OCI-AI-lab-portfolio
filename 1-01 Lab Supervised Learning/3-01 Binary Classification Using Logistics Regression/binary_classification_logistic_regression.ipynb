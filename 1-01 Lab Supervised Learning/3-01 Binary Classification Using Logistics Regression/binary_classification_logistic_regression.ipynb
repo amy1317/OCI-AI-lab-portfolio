{
 "cells": [
  {
   "cell_type": "code",
   "execution_count": 1,
   "id": "892d2ff3-64ba-489e-9cd7-223930b9a06b",
   "metadata": {},
   "outputs": [],
   "source": [
    "# Import libraries \n",
    "import numpy as np \n",
    "import matplotlib.pyplot as plt \n",
    "from ipywidgets import interact, FloatSlider \n",
    "from IPython.display import display, clear_output "
   ]
  },
  {
   "cell_type": "code",
   "execution_count": 2,
   "id": "4ddd2cc7-aa3c-4c5d-a6f2-345ee88e1913",
   "metadata": {},
   "outputs": [],
   "source": [
    "# Generate synthetic data \n",
    "np.random.seed(0) \n",
    "X = np.linspace(-5, 5, 100)  "
   ]
  },
  {
   "cell_type": "code",
   "execution_count": 5,
   "id": "129c5800-9040-4752-b884-a8edd5351d27",
   "metadata": {},
   "outputs": [],
   "source": [
    "# Create a function for interactive visualization \n",
    "def plot_logistic_regression(slope=2.0, intercept=-1.0, threshold=0.5): \n",
    "    new_linear_combination = slope * X +intercept \n",
    "    new_probability = 1 / (1 + np.exp(-new_linear_combination))\n",
    "    predicted_labels = (new_probability > threshold).astype(int) \n",
    "     \n",
    "    # Create subplots \n",
    "    fig, (ax1, ax2, ax3) = plt.subplots(1, 3, figsize=(18, 5)) \n",
    "     \n",
    "    # Plot the linear combination \n",
    "    ax1.plot(X, new_linear_combination, label='Linear Combination') \n",
    "    ax1.set_xlabel('Feature Value (X)') \n",
    "    ax1.set_ylabel('Linear Combination (y)') \n",
    "    ax1.legend() \n",
    "     \n",
    "    # Plot the logistic function output as a subplot \n",
    "    ax2.plot(X, new_probability, label='Logistic Function') \n",
    "    ax2.set_xlabel('Feature Value (X)') \n",
    "    ax2.set_ylabel('Probability') \n",
    "    ax2.legend() \n",
    "     \n",
    "    # Plot the predicted labels \n",
    "    ax3.scatter(X, predicted_labels, label='Predicted Labels') \n",
    "    ax3.set_xlabel('Feature Value (X)') \n",
    "    ax3.set_ylabel('Predicted Label') \n",
    "    ax3.legend() \n",
    "     \n",
    "    plt.show() "
   ]
  },
  {
   "cell_type": "code",
   "execution_count": 7,
   "id": "9817e4c8-ba9a-4698-9dac-f5bd24464bcb",
   "metadata": {},
   "outputs": [
    {
     "data": {
      "application/vnd.jupyter.widget-view+json": {
       "model_id": "6241323de5bb4115bfc547db05355b8f",
       "version_major": 2,
       "version_minor": 0
      },
      "text/plain": [
       "interactive(children=(FloatSlider(value=2.0, description='Slope', max=5.0, min=-5.0), FloatSlider(value=-1.0, …"
      ]
     },
     "metadata": {},
     "output_type": "display_data"
    },
    {
     "data": {
      "text/plain": [
       "<function __main__.plot_logistic_regression(slope=2.0, intercept=-1.0, threshold=0.5)>"
      ]
     },
     "execution_count": 7,
     "metadata": {},
     "output_type": "execute_result"
    }
   ],
   "source": [
    "#Create sliders \n",
    "slope_slider = FloatSlider(value=2.0, min=-5.0, max=5.0, step=0.1, description='Slope') \n",
    "intercept_slider = FloatSlider(value=-1.0, min=-5.0, max=5.0, step=0.1, description='Intercept') \n",
    "threshold_slider = FloatSlider(value=0.5, min=0.0, max=1.0, step=0.01, description='Threshold') \n",
    " \n",
    "# Create an interactive widget \n",
    "interact(plot_logistic_regression, slope=slope_slider, \n",
    "intercept=intercept_slider, threshold=threshold_slider) "
   ]
  },
  {
   "cell_type": "code",
   "execution_count": null,
   "id": "5bdf08b2-6cc3-4aa2-9326-313436129237",
   "metadata": {},
   "outputs": [],
   "source": []
  }
 ],
 "metadata": {
  "kernelspec": {
   "display_name": "Python 3 (ipykernel)",
   "language": "python",
   "name": "python3"
  },
  "language_info": {
   "codemirror_mode": {
    "name": "ipython",
    "version": 3
   },
   "file_extension": ".py",
   "mimetype": "text/x-python",
   "name": "python",
   "nbconvert_exporter": "python",
   "pygments_lexer": "ipython3",
   "version": "3.11.9"
  }
 },
 "nbformat": 4,
 "nbformat_minor": 5
}
